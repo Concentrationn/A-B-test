{
 "cells": [
  {
   "cell_type": "code",
   "execution_count": 3,
   "id": "97985c70-9794-4ee7-9b12-3eb5576095a0",
   "metadata": {},
   "outputs": [],
   "source": [
    "import pandas as pd\n",
    "import seaborn as sns \n",
    "import matplotlib.pyplot as plt\n",
    "import numpy as np\n",
    "from scipy.stats import ttest_ind"
   ]
  },
  {
   "cell_type": "markdown",
   "id": "07e1bd9e-91da-4714-99e5-2dadc6c47036",
   "metadata": {},
   "source": [
    "#### Проведение A/B тестирования\n",
    "\n",
    "##### Дана таблица: \n",
    "##### ***id_client*** - уникальный идентификатор клиента\n",
    "##### ***nflag_purchase*** - факт покупки (1 - приобретен рекламируемый товар, 0 - нет)"
   ]
  },
  {
   "cell_type": "markdown",
   "id": "7af983b4-91bc-4799-b709-a7f3c6365e91",
   "metadata": {},
   "source": [
    "Задача\n",
    "1. Исследуем зависимость пользования предложением от идентификатора клиента. \n",
    "2. Сделаем разбиение клиентов по группам (контроль и тест) в зависимости от остатка деления идентификатора на 10. Рассчитайте результаты АА-теста. Наблюдается ли разница?\n",
    "3. Сделаем разбиение клиентов по группам (контроль и тест) в зависимости от четности идентификатора (остатка от деления идентификатора на 2). Рассчитайте результаты АА-теста. Наблюдается ли разница?\n",
    "4. Сделаем  разбиение клиентов по группам (контроль и тест) с помощью функции sample из библиотеки pandas. По аналогии с расчетом из лекции сделайте 1000 разбиений с помощью sample и рассчитайте статистическую значимость разниц. В скольких процентах случаев наблюдается статистически значимая разница между контролем и тестом в АА-тесте?\n",
    "5. Рассчитаем сколько наблюдений потребуется для проведения АБ Теста, при условии что MDE = 2 процентных пункта (предположите, что альфа и бета установлены на дефолтном уровне и что дисперсия выборки не изменится от воздействия В)."
   ]
  },
  {
   "cell_type": "code",
   "execution_count": 9,
   "id": "6240b394-37c5-4379-b8ac-cb0e0f248e13",
   "metadata": {},
   "outputs": [
    {
     "data": {
      "text/html": [
       "<div>\n",
       "<style scoped>\n",
       "    .dataframe tbody tr th:only-of-type {\n",
       "        vertical-align: middle;\n",
       "    }\n",
       "\n",
       "    .dataframe tbody tr th {\n",
       "        vertical-align: top;\n",
       "    }\n",
       "\n",
       "    .dataframe thead th {\n",
       "        text-align: right;\n",
       "    }\n",
       "</style>\n",
       "<table border=\"1\" class=\"dataframe\">\n",
       "  <thead>\n",
       "    <tr style=\"text-align: right;\">\n",
       "      <th></th>\n",
       "      <th>id_client</th>\n",
       "      <th>flag_conv</th>\n",
       "    </tr>\n",
       "  </thead>\n",
       "  <tbody>\n",
       "    <tr>\n",
       "      <th>0</th>\n",
       "      <td>1345321</td>\n",
       "      <td>0</td>\n",
       "    </tr>\n",
       "    <tr>\n",
       "      <th>1</th>\n",
       "      <td>1345322</td>\n",
       "      <td>0</td>\n",
       "    </tr>\n",
       "    <tr>\n",
       "      <th>2</th>\n",
       "      <td>1345330</td>\n",
       "      <td>0</td>\n",
       "    </tr>\n",
       "    <tr>\n",
       "      <th>3</th>\n",
       "      <td>1345338</td>\n",
       "      <td>1</td>\n",
       "    </tr>\n",
       "    <tr>\n",
       "      <th>4</th>\n",
       "      <td>1345342</td>\n",
       "      <td>0</td>\n",
       "    </tr>\n",
       "  </tbody>\n",
       "</table>\n",
       "</div>"
      ],
      "text/plain": [
       "   id_client  flag_conv\n",
       "0    1345321          0\n",
       "1    1345322          0\n",
       "2    1345330          0\n",
       "3    1345338          1\n",
       "4    1345342          0"
      ]
     },
     "execution_count": 9,
     "metadata": {},
     "output_type": "execute_result"
    }
   ],
   "source": [
    "df= pd.read_csv('Домашнее задание Бизнес-4 (исходник).csv', sep = ';')\n",
    "df.head(5)"
   ]
  },
  {
   "cell_type": "code",
   "execution_count": 14,
   "id": "384ab3ce-f1ca-4e63-9014-df4224d7155f",
   "metadata": {
    "scrolled": true
   },
   "outputs": [
    {
     "data": {
      "text/html": [
       "<div>\n",
       "<style scoped>\n",
       "    .dataframe tbody tr th:only-of-type {\n",
       "        vertical-align: middle;\n",
       "    }\n",
       "\n",
       "    .dataframe tbody tr th {\n",
       "        vertical-align: top;\n",
       "    }\n",
       "\n",
       "    .dataframe thead th {\n",
       "        text-align: right;\n",
       "    }\n",
       "</style>\n",
       "<table border=\"1\" class=\"dataframe\">\n",
       "  <thead>\n",
       "    <tr style=\"text-align: right;\">\n",
       "      <th></th>\n",
       "      <th>id_client</th>\n",
       "      <th>flag_conv</th>\n",
       "      <th>id_client_10</th>\n",
       "      <th>id_client_2</th>\n",
       "      <th>right_symbol_10</th>\n",
       "      <th>right_symbol_2</th>\n",
       "    </tr>\n",
       "  </thead>\n",
       "  <tbody>\n",
       "    <tr>\n",
       "      <th>0</th>\n",
       "      <td>1345321</td>\n",
       "      <td>0</td>\n",
       "      <td>1</td>\n",
       "      <td>1</td>\n",
       "      <td>1</td>\n",
       "      <td>1</td>\n",
       "    </tr>\n",
       "    <tr>\n",
       "      <th>1</th>\n",
       "      <td>1345322</td>\n",
       "      <td>0</td>\n",
       "      <td>2</td>\n",
       "      <td>0</td>\n",
       "      <td>2</td>\n",
       "      <td>0</td>\n",
       "    </tr>\n",
       "    <tr>\n",
       "      <th>2</th>\n",
       "      <td>1345330</td>\n",
       "      <td>0</td>\n",
       "      <td>0</td>\n",
       "      <td>0</td>\n",
       "      <td>0</td>\n",
       "      <td>0</td>\n",
       "    </tr>\n",
       "    <tr>\n",
       "      <th>3</th>\n",
       "      <td>1345338</td>\n",
       "      <td>1</td>\n",
       "      <td>8</td>\n",
       "      <td>0</td>\n",
       "      <td>8</td>\n",
       "      <td>0</td>\n",
       "    </tr>\n",
       "    <tr>\n",
       "      <th>4</th>\n",
       "      <td>1345342</td>\n",
       "      <td>0</td>\n",
       "      <td>2</td>\n",
       "      <td>0</td>\n",
       "      <td>2</td>\n",
       "      <td>0</td>\n",
       "    </tr>\n",
       "  </tbody>\n",
       "</table>\n",
       "</div>"
      ],
      "text/plain": [
       "   id_client  flag_conv  id_client_10  id_client_2 right_symbol_10  \\\n",
       "0    1345321          0             1            1               1   \n",
       "1    1345322          0             2            0               2   \n",
       "2    1345330          0             0            0               0   \n",
       "3    1345338          1             8            0               8   \n",
       "4    1345342          0             2            0               2   \n",
       "\n",
       "  right_symbol_2  \n",
       "0              1  \n",
       "1              0  \n",
       "2              0  \n",
       "3              0  \n",
       "4              0  "
      ]
     },
     "execution_count": 14,
     "metadata": {},
     "output_type": "execute_result"
    }
   ],
   "source": [
    "#### Разбиение на остаток от деления на 2 и на 10 \n",
    "df['id_client_10'] = df['id_client'] % 10\n",
    "df['id_client_2'] = df['id_client'] % 2\n",
    "df['right_symbol_10'] = df['id_client_10'].astype(str).str[-1]\n",
    "df['right_symbol_2'] = df['id_client_2'].astype(str).str[-1]\n",
    "df.head(5)"
   ]
  },
  {
   "cell_type": "code",
   "execution_count": 16,
   "id": "87731848-15f9-4893-8319-c759ce8863ae",
   "metadata": {},
   "outputs": [
    {
     "data": {
      "text/html": [
       "<div>\n",
       "<style scoped>\n",
       "    .dataframe tbody tr th:only-of-type {\n",
       "        vertical-align: middle;\n",
       "    }\n",
       "\n",
       "    .dataframe tbody tr th {\n",
       "        vertical-align: top;\n",
       "    }\n",
       "\n",
       "    .dataframe thead th {\n",
       "        text-align: right;\n",
       "    }\n",
       "</style>\n",
       "<table border=\"1\" class=\"dataframe\">\n",
       "  <thead>\n",
       "    <tr style=\"text-align: right;\">\n",
       "      <th></th>\n",
       "      <th>id_client</th>\n",
       "      <th>flag_conv</th>\n",
       "      <th>id_client_10</th>\n",
       "      <th>id_client_2</th>\n",
       "      <th>right_symbol_10</th>\n",
       "      <th>right_symbol_2</th>\n",
       "      <th>group_10</th>\n",
       "      <th>group_2</th>\n",
       "    </tr>\n",
       "  </thead>\n",
       "  <tbody>\n",
       "    <tr>\n",
       "      <th>0</th>\n",
       "      <td>1345321</td>\n",
       "      <td>0</td>\n",
       "      <td>1</td>\n",
       "      <td>1</td>\n",
       "      <td>1</td>\n",
       "      <td>1</td>\n",
       "      <td>control</td>\n",
       "      <td>test</td>\n",
       "    </tr>\n",
       "    <tr>\n",
       "      <th>1</th>\n",
       "      <td>1345322</td>\n",
       "      <td>0</td>\n",
       "      <td>2</td>\n",
       "      <td>0</td>\n",
       "      <td>2</td>\n",
       "      <td>0</td>\n",
       "      <td>control</td>\n",
       "      <td>control</td>\n",
       "    </tr>\n",
       "    <tr>\n",
       "      <th>2</th>\n",
       "      <td>1345330</td>\n",
       "      <td>0</td>\n",
       "      <td>0</td>\n",
       "      <td>0</td>\n",
       "      <td>0</td>\n",
       "      <td>0</td>\n",
       "      <td>control</td>\n",
       "      <td>control</td>\n",
       "    </tr>\n",
       "    <tr>\n",
       "      <th>3</th>\n",
       "      <td>1345338</td>\n",
       "      <td>1</td>\n",
       "      <td>8</td>\n",
       "      <td>0</td>\n",
       "      <td>8</td>\n",
       "      <td>0</td>\n",
       "      <td>test</td>\n",
       "      <td>control</td>\n",
       "    </tr>\n",
       "    <tr>\n",
       "      <th>4</th>\n",
       "      <td>1345342</td>\n",
       "      <td>0</td>\n",
       "      <td>2</td>\n",
       "      <td>0</td>\n",
       "      <td>2</td>\n",
       "      <td>0</td>\n",
       "      <td>control</td>\n",
       "      <td>control</td>\n",
       "    </tr>\n",
       "  </tbody>\n",
       "</table>\n",
       "</div>"
      ],
      "text/plain": [
       "   id_client  flag_conv  id_client_10  id_client_2 right_symbol_10  \\\n",
       "0    1345321          0             1            1               1   \n",
       "1    1345322          0             2            0               2   \n",
       "2    1345330          0             0            0               0   \n",
       "3    1345338          1             8            0               8   \n",
       "4    1345342          0             2            0               2   \n",
       "\n",
       "  right_symbol_2 group_10  group_2  \n",
       "0              1  control     test  \n",
       "1              0  control  control  \n",
       "2              0  control  control  \n",
       "3              0     test  control  \n",
       "4              0  control  control  "
      ]
     },
     "execution_count": 16,
     "metadata": {},
     "output_type": "execute_result"
    }
   ],
   "source": [
    "# Создание датафреймов для расчетов \n",
    "df['group_10'] = df['id_client'] % 10\n",
    "df['group_10'] = df['group_10'].apply(lambda x: 'control' if x < 5 else 'test')\n",
    "df['group_2'] = df['id_client'] % 2\n",
    "df['group_2'] = df['group_2'].apply(lambda x: 'control' if x < 1 else 'test')\n",
    "df.head(5)"
   ]
  },
  {
   "cell_type": "code",
   "execution_count": 18,
   "id": "3ca0df83-2fba-4f0e-8c0a-0da745baf5e7",
   "metadata": {},
   "outputs": [],
   "source": [
    "# создаем контрольную и тестовую группу \n",
    "df_control_2 = df[df['group_2'] == 'control']['flag_conv']\n",
    "df_test_2 = df[df['group_2'] == 'test']['flag_conv']\n",
    "df_control_10 = df[df['group_10'] == 'control']['flag_conv']\n",
    "df_test_10 = df[df['group_10'] == 'test']['flag_conv']"
   ]
  },
  {
   "cell_type": "code",
   "execution_count": 20,
   "id": "d97237f9-465a-454c-8191-3609ba83c490",
   "metadata": {},
   "outputs": [
    {
     "data": {
      "text/plain": [
       "(2.303661902563631, 0.021306090686166332)"
      ]
     },
     "execution_count": 20,
     "metadata": {},
     "output_type": "execute_result"
    }
   ],
   "source": [
    "#### Средние равны \n",
    "s, p = ttest_ind(df_control_2, df_test_2)\n",
    "s, p"
   ]
  },
  {
   "cell_type": "code",
   "execution_count": 22,
   "id": "f78b8e61-1712-4482-896f-79f50e90397d",
   "metadata": {},
   "outputs": [
    {
     "data": {
      "text/plain": [
       "(3.761500955083385, 0.00017195329628373794)"
      ]
     },
     "execution_count": 22,
     "metadata": {},
     "output_type": "execute_result"
    }
   ],
   "source": [
    "#### Средние не равны \n",
    "s, p = ttest_ind(df_control_10, df_test_10)\n",
    "s, p"
   ]
  },
  {
   "cell_type": "markdown",
   "id": "4a620ed3-e998-4eba-a1de-db445880fa8f",
   "metadata": {},
   "source": [
    "#### Задача 1. График"
   ]
  },
  {
   "cell_type": "code",
   "execution_count": 10,
   "id": "e3bb492d-d210-4c92-bafb-c45a5712ce9a",
   "metadata": {},
   "outputs": [
    {
     "data": {
      "image/png": "[encoded data removed]",
      "text/plain": [
       "<Figure size 640x480 with 1 Axes>"
      ]
     },
     "metadata": {},
     "output_type": "display_data"
    }
   ],
   "source": [
    "sns.countplot(data=df, x='right_symbol_10', hue='flag_conv')\n",
    "plt.title('Количество flag_conv для каждого right_symbol')\n",
    "plt.xlabel('right_symbol')\n",
    "plt.ylabel('Частота')\n",
    "plt.show()"
   ]
  },
  {
   "cell_type": "markdown",
   "id": "0c701c9b-73f9-41d8-8596-a8c4761bb688",
   "metadata": {},
   "source": [
    "#### Задача 4.  Функция АА теста"
   ]
  },
  {
   "cell_type": "code",
   "execution_count": 32,
   "id": "ae8cb8de-aad0-46e0-8683-75e86d5267aa",
   "metadata": {},
   "outputs": [],
   "source": [
    "\n",
    "def AA_test(df, column, iterations=1000, alpha=0.05, frac=0.5):\n",
    "\n",
    "    if column not in df.columns:\n",
    "        raise ValueError(f\"Столбец '{column}' отсутствует в датафрейме.\")\n",
    "    \n",
    "    df_aa = pd.DataFrame(columns=['iter', 'stat_crit', 'p_value'])\n",
    "    \n",
    "    for i in range(1, iterations + 1):\n",
    "        part_50 = df.sample(frac=frac, random_state=i)\n",
    "        rest_part_50 = df.drop(part_50.index)\n",
    "        \n",
    "        s_a, p_a = ttest_ind(part_50[column], rest_part_50[column], equal_var=False)\n",
    "        \n",
    "        df_aa = pd.concat(\n",
    "            [df_aa, pd.DataFrame({'iter': [i], 'stat_crit': [s_a], 'p_value': [p_a]})],\n",
    "            ignore_index=True\n",
    "        )\n",
    "    \n",
    "    significant_ratio = df_aa[df_aa['p_value'] <= alpha].shape[0] / df_aa.shape[0]\n",
    "    \n",
    "    print(f\"Доля значимых результатов (p-value ≤ {alpha}): {significant_ratio:.2%}\")\n",
    "    \n",
    "    return df_aa, significant_ratio\n"
   ]
  },
  {
   "cell_type": "code",
   "execution_count": 34,
   "id": "1bfa8e5f-1618-47a7-ae09-b4fbf64d9b45",
   "metadata": {},
   "outputs": [
    {
     "name": "stderr",
     "output_type": "stream",
     "text": [
      "C:\\Users\\user\\AppData\\Local\\Temp\\ipykernel_21484\\603370683.py:14: FutureWarning: The behavior of DataFrame concatenation with empty or all-NA entries is deprecated. In a future version, this will no longer exclude empty or all-NA columns when determining the result dtypes. To retain the old behavior, exclude the relevant entries before the concat operation.\n",
      "  df_aa = pd.concat(\n"
     ]
    },
    {
     "name": "stdout",
     "output_type": "stream",
     "text": [
      "Доля значимых результатов (p-value ≤ 0.05): 4.10%\n",
      "  iter  stat_crit   p_value\n",
      "0    1   1.079268  0.280550\n",
      "1    2   0.131618  0.895295\n",
      "2    3   0.641825  0.521033\n",
      "3    4  -2.056164  0.039849\n",
      "4    5  -0.232788  0.815941\n",
      "\n"
     ]
    }
   ],
   "source": [
    "df_aa_results, significant_ratio = AA_test(df, column='flag_conv')\n",
    "\n",
    "print(df_aa_results.head())\n",
    "print('')"
   ]
  },
  {
   "cell_type": "markdown",
   "id": "410f4272-20af-40c3-a831-8f2fd4d06f09",
   "metadata": {},
   "source": [
    "#### Задача 5.  Расчет выборки"
   ]
  },
  {
   "cell_type": "code",
   "execution_count": 26,
   "id": "074602ca-5787-48f2-b61b-386525f0b5b4",
   "metadata": {},
   "outputs": [
    {
     "name": "stdout",
     "output_type": "stream",
     "text": [
      "Необходимое количество наблюдений для проведения А/Б-теста:\n",
      "9499\n"
     ]
    }
   ],
   "source": [
    "# Задание 5 \n",
    "avg_conv = df['flag_conv'].mean()\n",
    "d = avg_conv * (1 - avg_conv)\n",
    "MDE = 0.02  \n",
    "n = 16 * d/ MDE ** 2\n",
    "print('Необходимое количество наблюдений для проведения А/Б-теста:')\n",
    "print(int(n))"
   ]
  }
 ],
 "metadata": {
  "kernelspec": {
   "display_name": "Python 3 (ipykernel)",
   "language": "python",
   "name": "python3"
  },
  "language_info": {
   "codemirror_mode": {
    "name": "ipython",
    "version": 3
   },
   "file_extension": ".py",
   "mimetype": "text/x-python",
   "name": "python",
   "nbconvert_exporter": "python",
   "pygments_lexer": "ipython3",
   "version": "3.12.7"
  }
 },
 "nbformat": 4,
 "nbformat_minor": 5
}

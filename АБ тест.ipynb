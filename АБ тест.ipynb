{
 "cells": [
  {
   "cell_type": "code",
   "execution_count": 2,
   "id": "05246e85-c40d-4c1a-b8ee-d01c20415c22",
   "metadata": {},
   "outputs": [],
   "source": [
    "import pandas as pd \n",
    "import numpy as np\n",
    "from scipy.stats import ttest_ind\n",
    "import scipy.stats as stats"
   ]
  },
  {
   "cell_type": "code",
   "execution_count": 3,
   "id": "80b540d0-006d-4818-be67-ab58013d9494",
   "metadata": {},
   "outputs": [
    {
     "data": {
      "text/html": [
       "<div>\n",
       "<style scoped>\n",
       "    .dataframe tbody tr th:only-of-type {\n",
       "        vertical-align: middle;\n",
       "    }\n",
       "\n",
       "    .dataframe tbody tr th {\n",
       "        vertical-align: top;\n",
       "    }\n",
       "\n",
       "    .dataframe thead th {\n",
       "        text-align: right;\n",
       "    }\n",
       "</style>\n",
       "<table border=\"1\" class=\"dataframe\">\n",
       "  <thead>\n",
       "    <tr style=\"text-align: right;\">\n",
       "      <th></th>\n",
       "      <th>id_client</th>\n",
       "      <th>id_group</th>\n",
       "      <th>city</th>\n",
       "      <th>nflag_purchase</th>\n",
       "      <th>time_came</th>\n",
       "    </tr>\n",
       "  </thead>\n",
       "  <tbody>\n",
       "    <tr>\n",
       "      <th>0</th>\n",
       "      <td>24360208</td>\n",
       "      <td>0</td>\n",
       "      <td>Moscow</td>\n",
       "      <td>1</td>\n",
       "      <td>21.10.2021</td>\n",
       "    </tr>\n",
       "    <tr>\n",
       "      <th>1</th>\n",
       "      <td>24360925</td>\n",
       "      <td>1</td>\n",
       "      <td>Moscow</td>\n",
       "      <td>1</td>\n",
       "      <td>16.10.2021</td>\n",
       "    </tr>\n",
       "    <tr>\n",
       "      <th>2</th>\n",
       "      <td>24357607</td>\n",
       "      <td>1</td>\n",
       "      <td>Saint-Petersbourg</td>\n",
       "      <td>0</td>\n",
       "      <td>09.01.2021</td>\n",
       "    </tr>\n",
       "    <tr>\n",
       "      <th>3</th>\n",
       "      <td>24362041</td>\n",
       "      <td>0</td>\n",
       "      <td>Saint-Petersbourg</td>\n",
       "      <td>0</td>\n",
       "      <td>25.01.2020</td>\n",
       "    </tr>\n",
       "    <tr>\n",
       "      <th>4</th>\n",
       "      <td>24360773</td>\n",
       "      <td>1</td>\n",
       "      <td>Novosibirsk</td>\n",
       "      <td>0</td>\n",
       "      <td>03.04.2021</td>\n",
       "    </tr>\n",
       "  </tbody>\n",
       "</table>\n",
       "</div>"
      ],
      "text/plain": [
       "   id_client  id_group               city  nflag_purchase   time_came\n",
       "0   24360208         0             Moscow               1  21.10.2021\n",
       "1   24360925         1             Moscow               1  16.10.2021\n",
       "2   24357607         1  Saint-Petersbourg               0  09.01.2021\n",
       "3   24362041         0  Saint-Petersbourg               0  25.01.2020\n",
       "4   24360773         1        Novosibirsk               0  03.04.2021"
      ]
     },
     "execution_count": 3,
     "metadata": {},
     "output_type": "execute_result"
    }
   ],
   "source": [
    "df = pd.read_csv('Домашняя работа Бизнес-3 (исходник).csv',sep= ';')\n",
    "df.head(5)"
   ]
  },
  {
   "cell_type": "code",
   "execution_count": 6,
   "id": "f8178220-7f8d-4d1e-8d0d-ebd092bdfea1",
   "metadata": {},
   "outputs": [
    {
     "data": {
      "text/html": [
       "<div>\n",
       "<style scoped>\n",
       "    .dataframe tbody tr th:only-of-type {\n",
       "        vertical-align: middle;\n",
       "    }\n",
       "\n",
       "    .dataframe tbody tr th {\n",
       "        vertical-align: top;\n",
       "    }\n",
       "\n",
       "    .dataframe thead th {\n",
       "        text-align: right;\n",
       "    }\n",
       "</style>\n",
       "<table border=\"1\" class=\"dataframe\">\n",
       "  <thead>\n",
       "    <tr style=\"text-align: right;\">\n",
       "      <th></th>\n",
       "      <th>id_group</th>\n",
       "      <th>nflag_purchase_sum</th>\n",
       "    </tr>\n",
       "  </thead>\n",
       "  <tbody>\n",
       "    <tr>\n",
       "      <th>0</th>\n",
       "      <td>0</td>\n",
       "      <td>872</td>\n",
       "    </tr>\n",
       "    <tr>\n",
       "      <th>1</th>\n",
       "      <td>1</td>\n",
       "      <td>974</td>\n",
       "    </tr>\n",
       "  </tbody>\n",
       "</table>\n",
       "</div>"
      ],
      "text/plain": [
       "   id_group  nflag_purchase_sum\n",
       "0         0                 872\n",
       "1         1                 974"
      ]
     },
     "execution_count": 6,
     "metadata": {},
     "output_type": "execute_result"
    }
   ],
   "source": [
    "df.groupby('id_group').agg(nflag_purchase_sum=('nflag_purchase', 'sum')).reset_index() \n"
   ]
  },
  {
   "cell_type": "code",
   "execution_count": 8,
   "id": "0b764981-cfef-44df-aa85-10ddd2eb3a58",
   "metadata": {},
   "outputs": [
    {
     "name": "stdout",
     "output_type": "stream",
     "text": [
      "-2.4013624185110922\n",
      "0.01636252986305824\n",
      "средние не равны, H0 отклоняется на общей выборке\n"
     ]
    }
   ],
   "source": [
    "### Задание 1\n",
    "\n",
    "df['id_group'] = df['id_group'].astype(str)\n",
    "s, p = ttest_ind(df[df['id_group'] == '0']['nflag_purchase'],df[df['id_group'] == '1']['nflag_purchase'])\n",
    "print(s)\n",
    "print(p)\n",
    "print('средние не равны, H0 отклоняется на общей выборке')"
   ]
  },
  {
   "cell_type": "code",
   "execution_count": 213,
   "id": "f9a90c1c-ac4c-4dd7-98d4-3a17a635a2e9",
   "metadata": {},
   "outputs": [
    {
     "name": "stdout",
     "output_type": "stream",
     "text": [
      "Moscow\n",
      "0.3981571415772427\n",
      "\n",
      "Saint-Petersbourg\n",
      "0.09701308927385824\n",
      "\n",
      "Novosibirsk\n",
      "0.6186980029170557\n",
      "\n",
      "Kazan\n",
      "0.592246594180279\n",
      "\n",
      "Vladivostok\n",
      "0.030257214768841512\n",
      "\n",
      "Средние равны в каждом городе кроме Владивостока\n"
     ]
    }
   ],
   "source": [
    "### Задание 2\n",
    "\n",
    "for i in df['city'].unique():\n",
    "    print(i)\n",
    "    group_0 = df[(df['city'] == i) & (df['id_group'] == '0')]['nflag_purchase']\n",
    "    group_1 = df[(df['city'] == i) & (df['id_group'] == '1')]['nflag_purchase']\n",
    "    s, p = ttest_ind(group_0, group_1)\n",
    "    print(p)    \n",
    "    print()  \n",
    "print('Средние равны в каждом городе кроме Владивостока')"
   ]
  },
  {
   "cell_type": "code",
   "execution_count": 219,
   "id": "1fb1d7c8-e843-48b8-937c-93298ec44644",
   "metadata": {},
   "outputs": [
    {
     "name": "stdout",
     "output_type": "stream",
     "text": [
      "Moscow\n",
      "2020\n",
      "0.5054399863130574\n",
      "2021\n",
      "0.5753106595236979\n",
      "Saint-Petersbourg\n",
      "2020\n",
      "0.28741355911452665\n",
      "2021\n",
      "0.19716903302230424\n",
      "Novosibirsk\n",
      "2020\n",
      "0.8101519376946962\n",
      "2021\n",
      "0.6016373697833897\n",
      "Kazan\n",
      "2020\n",
      "0.5426955440428094\n",
      "2021\n",
      "0.9122617463673748\n",
      "Vladivostok\n",
      "2020\n",
      "0.003599171834113464\n",
      "2021\n",
      "0.6999017522609832\n",
      "Вывод:\n",
      "Средние не равны, только во Владивостоке в 2020 году(p-value <, то есть только там АБ тест прошел удачно\n"
     ]
    },
    {
     "name": "stderr",
     "output_type": "stream",
     "text": [
      "C:\\Users\\Lenovo User\\AppData\\Local\\Temp\\ipykernel_11948\\263392010.py:2: UserWarning: Parsing dates in %d.%m.%Y format when dayfirst=False (the default) was specified. Pass `dayfirst=True` or specify a format to silence this warning.\n",
      "  df['time_came'] = pd.to_datetime(df['time_came'], errors='coerce')\n"
     ]
    }
   ],
   "source": [
    "# Преобразование столбца 'time_came' в datetime\n",
    "df['time_came'] = pd.to_datetime(df['time_came'], errors='coerce')\n",
    "\n",
    "for city in df['city'].unique():\n",
    "    print(city)\n",
    "    \n",
    "    for year in [2020, 2021]:\n",
    "        print(year)\n",
    "        \n",
    "        group_0 = df[(df['city'] == city) & (df['id_group'] == '0') & (df['time_came'].dt.year == year)]['nflag_purchase']\n",
    "        group_1 = df[(df['city'] == city) & (df['id_group'] == '1') & (df['time_came'].dt.year == year)]['nflag_purchase']\n",
    "        s, p = ttest_ind(group_0, group_1)\n",
    "        print(p)\n",
    "\n",
    "print('Вывод:')\n",
    "print('Средние не равны, только во Владивостоке в 2020 году(p-value <, то есть только там АБ тест прошел удачно')"
   ]
  }
 ],
 "metadata": {
  "kernelspec": {
   "display_name": "Python 3 (ipykernel)",
   "language": "python",
   "name": "python3"
  },
  "language_info": {
   "codemirror_mode": {
    "name": "ipython",
    "version": 3
   },
   "file_extension": ".py",
   "mimetype": "text/x-python",
   "name": "python",
   "nbconvert_exporter": "python",
   "pygments_lexer": "ipython3",
   "version": "3.12.7"
  }
 },
 "nbformat": 4,
 "nbformat_minor": 5
}
